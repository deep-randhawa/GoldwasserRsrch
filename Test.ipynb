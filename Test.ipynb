{
 "cells": [
  {
   "cell_type": "code",
   "execution_count": 108,
   "metadata": {
    "collapsed": true
   },
   "outputs": [],
   "source": [
    "from bs4 import BeautifulSoup\n",
    "import urllib\n",
    "import requests\n",
    "import json\n",
    "\n",
    "root = 'http://www.debate.org'"
   ]
  },
  {
   "cell_type": "code",
   "execution_count": 37,
   "metadata": {
    "collapsed": false
   },
   "outputs": [],
   "source": [
    "people_page = urllib.urlopen('http://www.debate.org/people/?page=1&order=19&sort=1').read()\n",
    "soup = BeautifulSoup(people_page, 'lxml')"
   ]
  },
  {
   "cell_type": "code",
   "execution_count": 38,
   "metadata": {
    "collapsed": false,
    "scrolled": true
   },
   "outputs": [],
   "source": [
    "members_on_this_page = soup.find_all(\"div\", class_=\"member\")\n",
    "this_member = members_on_this_page[0]"
   ]
  },
  {
   "cell_type": "code",
   "execution_count": 40,
   "metadata": {
    "collapsed": false
   },
   "outputs": [],
   "source": [
    "member_url = this_member.find('div', class_='pic').a['href']\n",
    "member_soup = BeautifulSoup(urllib.urlopen(root + member_url).read(), 'lxml')"
   ]
  },
  {
   "cell_type": "code",
   "execution_count": 107,
   "metadata": {
    "collapsed": false
   },
   "outputs": [
    {
     "name": "stdout",
     "output_type": "stream",
     "text": [
      "http://www.debate.org/dairygirl4u2c/\n",
      "{u'Party': u'Reform Party', u'Looking': u'No Answer', u'Updated': u'7 Months Ago', u'Name': u'- Private -', u'Relationship': u'Not Saying', u'Interested': u'No Answer', u'Gender': u'Female', u'Income': u'Other', u'Joined': u'8 Years Ago', u'Ideology': u'Progressive', u'Religion': u'Christian', u'Birthday': u'- Private -', u'Online': u'1 Month Ago', u'President': u'Other', u'Education': u'Graduate Degree', u'Email': u'- Private -', u'Ethnicity': u'Not Saying', u'Occupation': u'Other'}\n"
     ]
    }
   ],
   "source": [
    "\n",
    "# GET ALL USERS #\n",
    "# Gets the /people/ sorted by debates\n",
    "root = 'http://www.debate.org'\n",
    "route = '/people/?order=19&sort=1'\n",
    "\n",
    "all_members = set()\n",
    "\n",
    "# -- Goes over 20 pages of the members, and grabs all of em -- #\n",
    "for page_num in range(1, 2):\n",
    "    this_page = urllib.urlopen(root + route + '&page=' + str(page_num)).read()\n",
    "    this_page_soup = BeautifulSoup(this_page, 'lxml')\n",
    "\n",
    "    members_on_this_page = this_page_soup.find_all('div', class_='member')\n",
    "    # -- Goes over all members in the page, and adds em to the set -- #\n",
    "    for member in members_on_this_page:\n",
    "        member_url = root + member.find('div', class_='pic').a['href']\n",
    "        member_soup = BeautifulSoup(urllib.urlopen(member_url).read(), 'lxml')\n",
    "\n",
    "        info_table = member_soup.find('div', id='profile').find('div', id='info').find('table').find_all('tr')\n",
    "        info_dict = {}\n",
    "        for row in info_table:\n",
    "            info_dict[row.find('td', class_='c1').get_text()[:-1]] = row.find('td', class_='c2').get_text()\n",
    "            info_dict[row.find('td', class_='c4').get_text()[:-1]] = row.find('td', class_='c5').get_text()\n",
    "\n",
    "        print member_url\n",
    "        print info_dict\n",
    "        break\n",
    "    break"
   ]
  },
  {
   "cell_type": "code",
   "execution_count": 110,
   "metadata": {
    "collapsed": false
   },
   "outputs": [
    {
     "name": "stdout",
     "output_type": "stream",
     "text": [
      "{\n",
      "  \"Party\": \"Reform Party\", \n",
      "  \"Looking\": \"No Answer\", \n",
      "  \"Updated\": \"7 Months Ago\", \n",
      "  \"Name\": \"- Private -\", \n",
      "  \"Relationship\": \"Not Saying\", \n",
      "  \"Interested\": \"No Answer\", \n",
      "  \"Gender\": \"Female\", \n",
      "  \"Income\": \"Other\", \n",
      "  \"Joined\": \"8 Years Ago\", \n",
      "  \"Ideology\": \"Progressive\", \n",
      "  \"Religion\": \"Christian\", \n",
      "  \"Birthday\": \"- Private -\", \n",
      "  \"Online\": \"1 Month Ago\", \n",
      "  \"President\": \"Other\", \n",
      "  \"Education\": \"Graduate Degree\", \n",
      "  \"Email\": \"- Private -\", \n",
      "  \"Ethnicity\": \"Not Saying\", \n",
      "  \"Occupation\": \"Other\"\n",
      "}\n"
     ]
    }
   ],
   "source": [
    "print(json.dumps(info_dict, indent=2))"
   ]
  },
  {
   "cell_type": "code",
   "execution_count": null,
   "metadata": {
    "collapsed": true
   },
   "outputs": [],
   "source": []
  }
 ],
 "metadata": {
  "kernelspec": {
   "display_name": "Python 2",
   "language": "python",
   "name": "python2"
  },
  "language_info": {
   "codemirror_mode": {
    "name": "ipython",
    "version": 2
   },
   "file_extension": ".py",
   "mimetype": "text/x-python",
   "name": "python",
   "nbconvert_exporter": "python",
   "pygments_lexer": "ipython2",
   "version": "2.7.10"
  }
 },
 "nbformat": 4,
 "nbformat_minor": 0
}
