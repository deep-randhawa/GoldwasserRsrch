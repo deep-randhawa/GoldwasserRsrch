{
 "cells": [
  {
   "cell_type": "code",
   "execution_count": 108,
   "metadata": {
    "collapsed": true
   },
   "outputs": [],
   "source": [
    "from bs4 import BeautifulSoup\n",
    "import urllib\n",
    "import requests\n",
    "import json\n",
    "\n",
    "root = 'http://www.debate.org'"
   ]
  },
  {
   "cell_type": "code",
   "execution_count": 37,
   "metadata": {
    "collapsed": false
   },
   "outputs": [],
   "source": [
    "people_page = urllib.urlopen('http://www.debate.org/people/?page=1&order=19&sort=1').read()\n",
    "soup = BeautifulSoup(people_page, 'lxml')"
   ]
  },
  {
   "cell_type": "code",
   "execution_count": 38,
   "metadata": {
    "collapsed": false,
    "scrolled": true
   },
   "outputs": [],
   "source": [
    "members_on_this_page = soup.find_all(\"div\", class_=\"member\")\n",
    "this_member = members_on_this_page[0]"
   ]
  },
  {
   "cell_type": "code",
   "execution_count": 40,
   "metadata": {
    "collapsed": false
   },
   "outputs": [],
   "source": [
    "member_url = this_member.find('div', class_='pic').a['href']\n",
    "member_soup = BeautifulSoup(urllib.urlopen(root + member_url).read(), 'lxml')"
   ]
  },
  {
   "cell_type": "code",
   "execution_count": 126,
   "metadata": {
    "collapsed": false,
    "scrolled": true
   },
   "outputs": [
    {
     "name": "stdout",
     "output_type": "stream",
     "text": [
      "The_Devils_Advocate\n",
      "steveokey\n",
      "JaPak\n",
      "peace-maker\n",
      "ozziegirl\n",
      "lalit2729\n",
      "BrianHull\n",
      "loserface\n",
      "joshandr30\n"
     ]
    }
   ],
   "source": [
    "from bs4 import BeautifulSoup\n",
    "import requests\n",
    "import urllib\n",
    "import json\n",
    "\n",
    "__author__ = 'drandhaw'\n",
    "\n",
    "\n",
    "# GET ALL USERS #\n",
    "# Gets the /people/ sorted by debates\n",
    "root = 'http://www.debate.org'\n",
    "route = '/people/?order=19&sort=1'\n",
    "\n",
    "all_members = set()\n",
    "\n",
    "# -- Goes over 20 pages of the members, and grabs all of em -- #\n",
    "for page_num in range(1, 2):\n",
    "    this_page = urllib.urlopen(root + route + '&page=' + str(page_num)).read()\n",
    "    this_page_soup = BeautifulSoup(this_page, 'lxml')\n",
    "\n",
    "    members_on_this_page = this_page_soup.find_all('div', class_='member')\n",
    "    # -- Goes over all members in the page, and adds em to the set -- #\n",
    "    for member in members_on_this_page:\n",
    "        member_url = member.find('div', class_='pic').a['href']\n",
    "        member_soup = BeautifulSoup(urllib.urlopen(root + member_url).read(), 'lxml')\n",
    "\n",
    "        info_table = member_soup.find('div', id='profile').find('div', id='info').find('table').find_all('tr')\n",
    "        info_dict = {}\n",
    "        for row in info_table:\n",
    "            info_dict[row.find('td', class_='c1').get_text()[:-1]] = row.find('td', class_='c2').get_text()\n",
    "            info_dict[row.find('td', class_='c4').get_text()[:-1]] = row.find('td', class_='c5').get_text()\n",
    "        \n",
    "        for friends_page_num in range(190,200):\n",
    "            s = BeautifulSoup(urllib.urlopen(root + member_url + '/friends/' + str(friends_page_num)).read(), 'lxml')\n",
    "            for friend in s.find_all('div', class_='member'):\n",
    "                print friend.find('div', class_='username').find('div', class_='link').a.get_text()\n",
    "            break\n",
    "        break\n",
    "    break"
   ]
  },
  {
   "cell_type": "code",
   "execution_count": 112,
   "metadata": {
    "collapsed": false
   },
   "outputs": [
    {
     "name": "stdout",
     "output_type": "stream",
     "text": [
      "{\n",
      "  \"Party\": \"Libertarian Party\", \n",
      "  \"Looking\": \"No Answer\", \n",
      "  \"Updated\": \"2 Weeks Ago\", \n",
      "  \"Name\": \"- Private -\", \n",
      "  \"Relationship\": \"Engaged\", \n",
      "  \"Interested\": \"in Women\", \n",
      "  \"Gender\": \"Male\", \n",
      "  \"Income\": \"$25,000 to $35,000\", \n",
      "  \"Joined\": \"2 Years Ago\", \n",
      "  \"Ideology\": \"Libertarian\", \n",
      "  \"Religion\": \"Atheist\", \n",
      "  \"Birthday\": \"- Private -\", \n",
      "  \"Online\": \"Right Now\", \n",
      "  \"President\": \"Gary Johnson (Libertarian Party)\", \n",
      "  \"Education\": \"Some College\", \n",
      "  \"Email\": \"- Private -\", \n",
      "  \"Ethnicity\": \"White\", \n",
      "  \"Occupation\": \"Retail\"\n",
      "}\n"
     ]
    }
   ],
   "source": [
    "print(json.dumps(info_dict, indent=2))"
   ]
  },
  {
   "cell_type": "code",
   "execution_count": null,
   "metadata": {
    "collapsed": true
   },
   "outputs": [],
   "source": []
  }
 ],
 "metadata": {
  "kernelspec": {
   "display_name": "Python 2",
   "language": "python",
   "name": "python2"
  },
  "language_info": {
   "codemirror_mode": {
    "name": "ipython",
    "version": 2
   },
   "file_extension": ".py",
   "mimetype": "text/x-python",
   "name": "python",
   "nbconvert_exporter": "python",
   "pygments_lexer": "ipython2",
   "version": "2.7.10"
  }
 },
 "nbformat": 4,
 "nbformat_minor": 0
}
