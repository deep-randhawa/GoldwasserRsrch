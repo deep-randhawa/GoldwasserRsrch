{
 "cells": [
  {
   "cell_type": "code",
   "execution_count": 1,
   "metadata": {
    "collapsed": true
   },
   "outputs": [],
   "source": [
    "from bs4 import BeautifulSoup\n",
    "import urllib\n",
    "import requests\n",
    "import json\n",
    "\n",
    "root = 'http://www.debate.org'"
   ]
  },
  {
   "cell_type": "code",
   "execution_count": 2,
   "metadata": {
    "collapsed": false
   },
   "outputs": [],
   "source": [
    "people_page = urllib.urlopen('http://www.debate.org/people/?page=1&order=19&sort=1').read()\n",
    "soup = BeautifulSoup(people_page, 'lxml')"
   ]
  },
  {
   "cell_type": "code",
   "execution_count": 3,
   "metadata": {
    "collapsed": false,
    "scrolled": true
   },
   "outputs": [],
   "source": [
    "members_on_this_page = soup.find_all(\"div\", class_=\"member\")\n",
    "this_member = members_on_this_page[0]"
   ]
  },
  {
   "cell_type": "code",
   "execution_count": 4,
   "metadata": {
    "collapsed": false
   },
   "outputs": [],
   "source": [
    "member_url = this_member.find('div', class_='pic').a['href']\n",
    "member_soup = BeautifulSoup(urllib.urlopen(root + member_url).read(), 'lxml')"
   ]
  },
  {
   "cell_type": "code",
   "execution_count": 39,
   "metadata": {
    "collapsed": false,
    "scrolled": true
   },
   "outputs": [
    {
     "name": "stdout",
     "output_type": "stream",
     "text": [
      "\n",
      "\n",
      "Con\n",
      "\r\n",
      "I would like to thank my opponent for being willing to debate said topic.\n",
      "\r\n",
      ".;'*^?.;'*^?.;'*^?.;'*^?.;'*^?.;'*^?.;'*^?.;'*^?\n",
      "\r\n",
      "Gay marriage should NOT be legal for the following reasons:\n",
      "\r\n",
      "1. Laws should not be passed if they are specifically in violation of the will of the people. The majority of people in the US are against homosexual marriages (1). Therefore, it does not follow that we should permit same-sex marriages.\n",
      "\r\n",
      "2. It is reasonable to believe that homosexuality is sexual perversion. There is no evidenced gene, biological necessity, or evolutionary benefit for homosexuality.\r\n",
      "To accept my opponent's argument of \"innateness\" is to also accept, by logical necessity, pedophilia, zoophilia, and other sexual abnormalities.\n",
      "\r\n",
      "3. Homosexuals have no more and no less rights than heterosexuals. The idea of any inequality existing in terms of rights is balderdash. Moreover, civil unions offer the same benefits of traditional marriages. Homosexuals are NOT segregated, nor are they given less rights.\n",
      "\r\n",
      "4. By virtue of permitting individuals to marry partners of the same sex, marriage will quickly lose meaning and purpose. Who is to stop a man (or woman) from marrying, not just one, but two (or three) partners? If the logic used to permit same-sex marriages is to be used, what logical reasons does one have for barring polygamy, polyandry, or even pederasty?\n",
      "\r\n",
      ".;'*^?.;'*^?.;'*^?.;'*^?.;'*^?.;'*^?.;'*^?.;'*^?\n",
      "\r\n",
      "Now in response to my opponent's assertions:\n",
      "\r\n",
      "\"let me state that a civil union is not a reasonable compromise for a legal marriage.\"\n",
      "\r\n",
      "Indeed, it is not a compromise at all. Both homosexuals AND heterosexuals have equal rights to marriage and civil unions.\r\n",
      "-----\r\n",
      "\"The concept of ‘separate but equal' has already failed. Segregation is not a solution when it comes to rights. History has proven this.\"\n",
      "\r\n",
      "To begin with, as was evidenced with proposition 8 in California, gay marriage is not a civil right. Also, there is absolutely no analogous connection between segregation and gay marriage. Homosexuals are given the exact same rights as everybody else – and they are most definitely not separated.\r\n",
      "-----\r\n",
      "\"Secondly, where is the benefit of oppressing gays from marrying?\"\n",
      "\r\n",
      "Nobody is being oppressed. There are, however, plenty of negative repercussions. School sex-education programs would have to be entirely revamped to support equal say; it opens doors to polygamy and other such sexual aberrations; it is contra-popular vote.\n",
      "\r\n",
      "What are the benefits? They can have all the rights of marriage except for the name. A couple does not need marriage to be happy, comfortable, and free.\r\n",
      "-----\r\n",
      "\"Those who claim it is immoral are really just ignorant and foolish.\"\n",
      "\r\n",
      "Everybody is ignorant of something, but it is not my ignorance and foolishness that you should be concerned with. Who are you to claim proprietary rights to what IS and IS NOT moral? How are you defining morality and by what objective source is it obtained? What makes your moral standards obligatory and trumping? It may very well be immoral, but it is a bad idea irrespective of morality.\r\n",
      "-----\r\n",
      "\"In the case of Christianity, the bible states to do unto others what you would like done onto you\"\n",
      "\r\n",
      "And I would be quite thankful to the chap that informed me that my actions were in moral error. Are you willing to use the entire source in which the above quote is derived? If you are not willing, then do not use it as part of your argument – because as you will surely find, it is not your position that it supports.\n",
      "\r\n",
      ".;'*^?.;'*^?.;'*^?.;'*^?.;'*^?.;'*^?.;'*^?.;'*^?\n",
      "\r\n",
      "Conclusion:\r\n",
      "My opponent has given no practical benefits for same-sex marriages. She has failed to show that homosexuals are not receiving equal rights. She finds no moral compunction in unilaterally trumping the popular vote of US citizens and permitting same-sex marriages – this is against the ideals of our nation. She calls homosexuality innate without proving it as such. She apparently lays claim to an unspecified moral objective that is both binding and obligatory. She calls me foolish and ignorant – and to this I can only chuckle.\n",
      "\r\n",
      "I look forward to my opponent's response\n",
      "\r\n",
      "Inquiretruth\n",
      "\r\n",
      ".;'*^?.;'*^?.;'*^?.;'*^?.;'*^?.;'*^?.;'*^?.;'*^?\n",
      "\r\n",
      "Sources:\r\n",
      "1. http://www.quinnipiac.edu...Report this Argument\n"
     ]
    }
   ],
   "source": [
    "from bs4 import BeautifulSoup\n",
    "import requests\n",
    "import urllib\n",
    "import json\n",
    "\n",
    "__author__ = 'drandhaw'\n",
    "\n",
    "\n",
    "# GET ALL USERS #\n",
    "# Gets the /people/ sorted by debates\n",
    "root = 'http://www.debate.org'\n",
    "route = '/people/?order=19&sort=1'\n",
    "route_debate = '/debates/?order=4&sort=1'\n",
    "\n",
    "all_debates = set()\n",
    "\n",
    "\n",
    "for page_num in range(1, 2):\n",
    "    this_page = urllib.urlopen(root + route_debate + '&page=' + str(page_num)).read()\n",
    "    this_page_soup = BeautifulSoup(this_page, 'lxml')\n",
    "\n",
    "    debates_on_this_page = this_page_soup.find_all('div', class_='debatesLong')\n",
    "\n",
    "    for debate in debates_on_this_page:\n",
    "        link = debate.a['href']\n",
    "        debate = BeautifulSoup(urllib.urlopen(root + link).read(), 'lxml').find('div', id='debate')\n",
    "        \n",
    "        pro_member = debate.find('div', id='instigatorWrap').find('div', class_='un').get_text()\n",
    "        con_member = debate.find('div', id='contenderWrap').find('div', class_='un').get_text()\n",
    "        \n",
    "        params_table = debate.find('table', id='parameters')\n",
    "        params_dict = {}\n",
    "        for row in params_table.find_all('tr'):\n",
    "            try:\n",
    "                params_dict[row.find('td', class_='c1').get_text()] = row.find('td', class_='c2').get_text()\n",
    "                params_dict[row.find('td', class_='c3').get_text()] = row.find('td', class_='c4').get_text()\n",
    "            except AttributeError:\n",
    "                continue\n",
    "        round_soup = debate.find('table', id='rounds')\n",
    "        for round_num in range(1,5):\n",
    "            try:\n",
    "                metadict = {}\n",
    "                pro_con_data = round_soup.find('tr', id='round' + str(round_num)).find_all('div', class_='round-inner')\n",
    "                metadict['pro'] = pro_con_data[0].get_text()\n",
    "                metadict['con'] = pro_con_data[1].get_text()\n",
    "            except AttributeError:\n",
    "                continue\n",
    "            break\n",
    "        break"
   ]
  },
  {
   "cell_type": "code",
   "execution_count": 9,
   "metadata": {
    "collapsed": false
   },
   "outputs": [
    {
     "name": "stdout",
     "output_type": "stream",
     "text": [
      "/debates/inferring-Gods-existence-is-reasonable/1/\n"
     ]
    }
   ],
   "source": [
    "for debate_page_num in range(1, 11):\n",
    "    debates_page = BeautifulSoup(urllib.urlopen(root + member_url + \"debates/\" + str(debate_page_num)), 'lxml')\n",
    "    for debate in debates_page.find_all('div', class_='debatesLong'):\n",
    "        print debate.a['href']\n",
    "        break\n",
    "    break"
   ]
  },
  {
   "cell_type": "code",
   "execution_count": null,
   "metadata": {
    "collapsed": true
   },
   "outputs": [],
   "source": []
  }
 ],
 "metadata": {
  "kernelspec": {
   "display_name": "Python 2",
   "language": "python",
   "name": "python2"
  },
  "language_info": {
   "codemirror_mode": {
    "name": "ipython",
    "version": 2
   },
   "file_extension": ".py",
   "mimetype": "text/x-python",
   "name": "python",
   "nbconvert_exporter": "python",
   "pygments_lexer": "ipython2",
   "version": "2.7.10"
  }
 },
 "nbformat": 4,
 "nbformat_minor": 0
}
