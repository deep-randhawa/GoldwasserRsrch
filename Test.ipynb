{
 "cells": [
  {
   "cell_type": "code",
   "execution_count": 1,
   "metadata": {
    "collapsed": true
   },
   "outputs": [],
   "source": [
    "import matplotlib.pyplot as plt\n",
    "from sklearn import datasets\n",
    "from sklearn import svm\n",
    "\n",
    "from nltk.corpus import stopwords\n",
    "\n",
    "from Analysis import *"
   ]
  },
  {
   "cell_type": "code",
   "execution_count": 2,
   "metadata": {
    "collapsed": true
   },
   "outputs": [],
   "source": [
    "stop_words = set(stopwords.words('english'))"
   ]
  },
  {
   "cell_type": "code",
   "execution_count": null,
   "metadata": {
    "collapsed": false,
    "scrolled": true
   },
   "outputs": [
    {
     "name": "stdout",
     "output_type": "stream",
     "text": [
      "\n",
      "0\n",
      "6\n",
      "14\n",
      "16\n",
      "22\n",
      "30\n",
      "34\n",
      "38\n",
      "46\n",
      "52\n",
      "54\n",
      "62\n",
      "64\n",
      "72\n",
      "78\n",
      "82\n",
      "88\n",
      "90\n",
      "94\n",
      "98\n",
      "106\n",
      "106\n",
      "112\n",
      "118\n",
      "120\n",
      "128\n",
      "134\n",
      "138\n",
      "140\n",
      "146\n",
      "152\n",
      "152\n",
      "156\n",
      "158\n",
      "162\n",
      "168\n",
      "176\n",
      "178\n",
      "184\n",
      "186\n",
      "192\n",
      "198\n",
      "202\n",
      "208\n",
      "212"
     ]
    }
   ],
   "source": [
    "train, test = set_up_train_and_test_files(100, 100)"
   ]
  },
  {
   "cell_type": "code",
   "execution_count": null,
   "metadata": {
    "collapsed": false
   },
   "outputs": [],
   "source": [
    "train_features, train_targets, test_features, test_targets = get_data_in_sklearn_svm_format(train, test)"
   ]
  },
  {
   "cell_type": "code",
   "execution_count": null,
   "metadata": {
    "collapsed": false
   },
   "outputs": [],
   "source": [
    "clf = svm.SVC()\n",
    "clf.fit(train_features, train_targets)"
   ]
  },
  {
   "cell_type": "code",
   "execution_count": null,
   "metadata": {
    "collapsed": false
   },
   "outputs": [],
   "source": [
    "predict = clf.predict(test_features)\n",
    "total_correct = 0\n",
    "for i in range(len(predict)):\n",
    "    if predict[i] == test_targets[i]:\n",
    "        total_correct += 1\n",
    "print total_correct / float(len(predict))"
   ]
  },
  {
   "cell_type": "code",
   "execution_count": null,
   "metadata": {
    "collapsed": true
   },
   "outputs": [],
   "source": []
  }
 ],
 "metadata": {
  "kernelspec": {
   "display_name": "Python 2",
   "language": "python",
   "name": "python2"
  },
  "language_info": {
   "codemirror_mode": {
    "name": "ipython",
    "version": 2
   },
   "file_extension": ".py",
   "mimetype": "text/x-python",
   "name": "python",
   "nbconvert_exporter": "python",
   "pygments_lexer": "ipython2",
   "version": "2.7.10"
  }
 },
 "nbformat": 4,
 "nbformat_minor": 0
}
