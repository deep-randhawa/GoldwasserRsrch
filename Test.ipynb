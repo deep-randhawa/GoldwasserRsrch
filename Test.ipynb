{
 "cells": [
  {
   "cell_type": "code",
   "execution_count": 2,
   "metadata": {
    "collapsed": false
   },
   "outputs": [],
   "source": [
    "# Imports\n",
    "from sklearn.feature_extraction.text import TfidfVectorizer\n",
    "from sklearn.feature_selection import SelectKBest\n",
    "from sklearn.feature_selection import chi2\n",
    "from sklearn import svm, tree\n",
    "\n",
    "from Util import *"
   ]
  },
  {
   "cell_type": "code",
   "execution_count": 3,
   "metadata": {
    "collapsed": false
   },
   "outputs": [
    {
     "name": "stdout",
     "output_type": "stream",
     "text": [
      "\n"
     ]
    }
   ],
   "source": [
    "# Getting data\n",
    "all_debates = list(read_debates_from_file('abortion_debates.txt'))\n",
    "corpus_pro = [y.pro_data for x in all_debates for y in x.rounds]\n",
    "corpus_con = [y.con_data for x in all_debates for y in x.rounds]\n",
    "\n",
    "corpus = corpus_pro + corpus_con\n",
    "targets = [1] * len(corpus_pro) + [0] * len(corpus_con)\n",
    "\n",
    "vectorizer = TfidfVectorizer(ngram_range=(1, 2), min_df=1)\n",
    "X = vectorizer.fit_transform(corpus)\n",
    "y = targets\n",
    "\n",
    "# Selecting the best features\n",
    "X_new = SelectKBest(chi2, k=1000).fit_transform(X, y)\n",
    "\n",
    "# Shuffling corpus features\n",
    "X_y = list(zip(X_new.toarray(), y))\n",
    "random.shuffle(X_y)\n",
    "X, y = zip(*X_y)"
   ]
  },
  {
   "cell_type": "code",
   "execution_count": 4,
   "metadata": {
    "collapsed": false
   },
   "outputs": [],
   "source": [
    "train_features, train_targets = X[:int(len(X) * 0.75)], y[:int(len(y) * 0.75)]\n",
    "test_features, test_targets = X[int(len(X) * 0.25 * -1):], y[int(len(y) * 0.25 * -1):]"
   ]
  },
  {
   "cell_type": "code",
   "execution_count": 5,
   "metadata": {
    "collapsed": false
   },
   "outputs": [
    {
     "data": {
      "text/plain": [
       "0.49421742482652276"
      ]
     },
     "execution_count": 5,
     "metadata": {},
     "output_type": "execute_result"
    }
   ],
   "source": [
    "clf = svm.SVC()\n",
    "clf.fit(train_features, train_targets)\n",
    "clf.score(test_features, test_targets)"
   ]
  },
  {
   "cell_type": "code",
   "execution_count": null,
   "metadata": {
    "collapsed": true
   },
   "outputs": [],
   "source": []
  }
 ],
 "metadata": {
  "kernelspec": {
   "display_name": "Python 2",
   "language": "python",
   "name": "python2"
  },
  "language_info": {
   "codemirror_mode": {
    "name": "ipython",
    "version": 2
   },
   "file_extension": ".py",
   "mimetype": "text/x-python",
   "name": "python",
   "nbconvert_exporter": "python",
   "pygments_lexer": "ipython2",
   "version": "2.7.10"
  }
 },
 "nbformat": 4,
 "nbformat_minor": 0
}
